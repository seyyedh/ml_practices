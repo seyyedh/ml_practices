{
  "nbformat": 4,
  "nbformat_minor": 0,
  "metadata": {
    "colab": {
      "provenance": []
    },
    "kernelspec": {
      "name": "python3",
      "display_name": "Python 3"
    },
    "language_info": {
      "name": "python"
    }
  },
  "cells": [
    {
      "cell_type": "markdown",
      "source": [
        "**day 13 - Cross Validation and Grid Search**"
      ],
      "metadata": {
        "id": "4ZzjkAUsu9la"
      }
    },
    {
      "cell_type": "code",
      "source": [
        "import numpy as np\n",
        "import pandas as pd\n",
        "import matplotlib.pyplot as plt\n",
        "from sklearn.datasets import load_iris\n",
        "from sklearn.model_selection import train_test_split, cross_val_score, GridSearchCV\n",
        "from sklearn.neighbors import KNeighborsClassifier"
      ],
      "metadata": {
        "id": "3V_Okb9HvKWB"
      },
      "execution_count": 1,
      "outputs": []
    },
    {
      "cell_type": "code",
      "source": [
        "iris = load_iris()\n",
        "X = iris.data\n",
        "y = iris.target\n",
        "\n",
        "X_train, X_test, y_train, y_test = train_test_split(X, y, test_size=0.2, random_state=42)\n",
        "param_grid = {'n_neighbors': list(range(1,16))}\n",
        "grid_knn = GridSearchCV(KNeighborsClassifier(), param_grid, cv=5)\n",
        "grid_knn.fit(X_train, y_train)\n",
        "\n",
        "print(f\"Best k: {grid_knn.best_params_}, Best Score: {grid_knn.best_score_}\")"
      ],
      "metadata": {
        "colab": {
          "base_uri": "https://localhost:8080/"
        },
        "id": "5Kb_NIXrxm0C",
        "outputId": "c6e5cacf-4d0d-4e37-d28a-193b54b7a7b0"
      },
      "execution_count": 2,
      "outputs": [
        {
          "output_type": "stream",
          "name": "stdout",
          "text": [
            "Best k: {'n_neighbors': 3}, Best Score: 0.9583333333333334\n"
          ]
        }
      ]
    },
    {
      "cell_type": "markdown",
      "source": [
        "**Part 2 - Parameter Tuning for Random Forest**"
      ],
      "metadata": {
        "id": "Q4DRX10K0VHT"
      }
    },
    {
      "cell_type": "code",
      "source": [
        "from sklearn.ensemble import RandomForestClassifier\n",
        "\n",
        "param_grid = {'max_depth': list(range(1,16)), 'n_estimators': list(range(1,16))}\n",
        "grid_rf = GridSearchCV(RandomForestClassifier(), param_grid, cv=5)\n",
        "grid_rf.fit(X_train, y_train)\n",
        "\n",
        "print(f\"Best k: {grid_rf.best_params_}, Best Score: {grid_rf.best_score_}\")"
      ],
      "metadata": {
        "colab": {
          "base_uri": "https://localhost:8080/"
        },
        "id": "fGINFNSC0fwV",
        "outputId": "f4256bb2-dc4a-4be3-c1ef-114ce9bb2ed4"
      },
      "execution_count": 3,
      "outputs": [
        {
          "output_type": "stream",
          "name": "stdout",
          "text": [
            "Best k: {'max_depth': 3, 'n_estimators': 9}, Best Score: 0.9583333333333334\n"
          ]
        }
      ]
    }
  ]
}